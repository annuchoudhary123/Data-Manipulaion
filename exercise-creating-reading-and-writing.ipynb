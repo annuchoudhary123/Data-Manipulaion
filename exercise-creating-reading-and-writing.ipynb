{
 "cells": [
  {
   "cell_type": "markdown",
   "id": "2ea81bda",
   "metadata": {
    "papermill": {
     "duration": 0.022765,
     "end_time": "2022-05-13T19:20:33.068770",
     "exception": false,
     "start_time": "2022-05-13T19:20:33.046005",
     "status": "completed"
    },
    "tags": []
   },
   "source": [
    "**This notebook is an exercise in the [Pandas](https://www.kaggle.com/learn/pandas) course.  You can reference the tutorial at [this link](https://www.kaggle.com/residentmario/creating-reading-and-writing).**\n",
    "\n",
    "---\n"
   ]
  },
  {
   "cell_type": "markdown",
   "id": "bd796dd2",
   "metadata": {
    "papermill": {
     "duration": 0.02175,
     "end_time": "2022-05-13T19:20:33.112323",
     "exception": false,
     "start_time": "2022-05-13T19:20:33.090573",
     "status": "completed"
    },
    "tags": []
   },
   "source": [
    "# Introduction\n",
    "\n",
    "The first step in most data analytics projects is reading the data file. In this exercise, you'll create Series and DataFrame objects, both by hand and by reading data files.\n",
    "\n",
    "Run the code cell below to load libraries you will need (including code to check your answers)."
   ]
  },
  {
   "cell_type": "code",
   "execution_count": 1,
   "id": "2f1bdc54",
   "metadata": {
    "execution": {
     "iopub.execute_input": "2022-05-13T19:20:33.157951Z",
     "iopub.status.busy": "2022-05-13T19:20:33.157165Z",
     "iopub.status.idle": "2022-05-13T19:20:34.729650Z",
     "shell.execute_reply": "2022-05-13T19:20:34.728436Z"
    },
    "papermill": {
     "duration": 1.598898,
     "end_time": "2022-05-13T19:20:34.732725",
     "exception": false,
     "start_time": "2022-05-13T19:20:33.133827",
     "status": "completed"
    },
    "tags": []
   },
   "outputs": [
    {
     "name": "stdout",
     "output_type": "stream",
     "text": [
      "Setup complete.\n"
     ]
    }
   ],
   "source": [
    "import pandas as pd\n",
    "pd.set_option('max_rows', 5)\n",
    "from learntools.core import binder; binder.bind(globals())\n",
    "from learntools.pandas.creating_reading_and_writing import *\n",
    "print(\"Setup complete.\")"
   ]
  },
  {
   "cell_type": "markdown",
   "id": "5e9dad9d",
   "metadata": {
    "papermill": {
     "duration": 0.022014,
     "end_time": "2022-05-13T19:20:34.780371",
     "exception": false,
     "start_time": "2022-05-13T19:20:34.758357",
     "status": "completed"
    },
    "tags": []
   },
   "source": [
    "# Exercises"
   ]
  },
  {
   "cell_type": "markdown",
   "id": "7c741527",
   "metadata": {
    "papermill": {
     "duration": 0.022767,
     "end_time": "2022-05-13T19:20:34.826504",
     "exception": false,
     "start_time": "2022-05-13T19:20:34.803737",
     "status": "completed"
    },
    "tags": []
   },
   "source": [
    "## 1.\n",
    "\n",
    "In the cell below, create a DataFrame `fruits` that looks like this:\n",
    "\n",
    "![](https://i.imgur.com/Ax3pp2A.png)"
   ]
  },
  {
   "cell_type": "code",
   "execution_count": 2,
   "id": "ff180458",
   "metadata": {
    "execution": {
     "iopub.execute_input": "2022-05-13T19:20:34.872925Z",
     "iopub.status.busy": "2022-05-13T19:20:34.872409Z",
     "iopub.status.idle": "2022-05-13T19:20:34.893276Z",
     "shell.execute_reply": "2022-05-13T19:20:34.892552Z"
    },
    "papermill": {
     "duration": 0.046549,
     "end_time": "2022-05-13T19:20:34.895440",
     "exception": false,
     "start_time": "2022-05-13T19:20:34.848891",
     "status": "completed"
    },
    "tags": []
   },
   "outputs": [
    {
     "data": {
      "application/javascript": [
       "parent.postMessage({\"jupyterEvent\": \"custom.exercise_interaction\", \"data\": {\"outcomeType\": 1, \"valueTowardsCompletion\": 0.16666666666666666, \"interactionType\": 1, \"questionType\": 1, \"questionId\": \"1_FruitDfCreation\", \"learnToolsVersion\": \"0.3.4\", \"failureMessage\": \"\", \"exceptionClass\": \"\", \"trace\": \"\"}}, \"*\")"
      ],
      "text/plain": [
       "<IPython.core.display.Javascript object>"
      ]
     },
     "metadata": {},
     "output_type": "display_data"
    },
    {
     "data": {
      "text/markdown": [
       "<span style=\"color:#33cc33\">Correct</span>"
      ],
      "text/plain": [
       "Correct"
      ]
     },
     "metadata": {},
     "output_type": "display_data"
    },
    {
     "data": {
      "text/html": [
       "<div>\n",
       "<style scoped>\n",
       "    .dataframe tbody tr th:only-of-type {\n",
       "        vertical-align: middle;\n",
       "    }\n",
       "\n",
       "    .dataframe tbody tr th {\n",
       "        vertical-align: top;\n",
       "    }\n",
       "\n",
       "    .dataframe thead th {\n",
       "        text-align: right;\n",
       "    }\n",
       "</style>\n",
       "<table border=\"1\" class=\"dataframe\">\n",
       "  <thead>\n",
       "    <tr style=\"text-align: right;\">\n",
       "      <th></th>\n",
       "      <th>Apples</th>\n",
       "      <th>Bananas</th>\n",
       "    </tr>\n",
       "  </thead>\n",
       "  <tbody>\n",
       "    <tr>\n",
       "      <th>0</th>\n",
       "      <td>30</td>\n",
       "      <td>21</td>\n",
       "    </tr>\n",
       "  </tbody>\n",
       "</table>\n",
       "</div>"
      ],
      "text/plain": [
       "   Apples  Bananas\n",
       "0      30       21"
      ]
     },
     "execution_count": 2,
     "metadata": {},
     "output_type": "execute_result"
    }
   ],
   "source": [
    "# Your code goes here. Create a dataframe matching the above diagram and assign it to the variable fruits.\n",
    "fruits = pd.DataFrame({'Apples':[30],'Bananas': [21]})\n",
    "\n",
    "# Check your answer\n",
    "q1.check()\n",
    "fruits"
   ]
  },
  {
   "cell_type": "code",
   "execution_count": 3,
   "id": "0edc893c",
   "metadata": {
    "execution": {
     "iopub.execute_input": "2022-05-13T19:20:34.947630Z",
     "iopub.status.busy": "2022-05-13T19:20:34.947114Z",
     "iopub.status.idle": "2022-05-13T19:20:34.950783Z",
     "shell.execute_reply": "2022-05-13T19:20:34.949757Z"
    },
    "papermill": {
     "duration": 0.032236,
     "end_time": "2022-05-13T19:20:34.952997",
     "exception": false,
     "start_time": "2022-05-13T19:20:34.920761",
     "status": "completed"
    },
    "tags": []
   },
   "outputs": [],
   "source": [
    "#q1.hint()\n",
    "#q1.solution()"
   ]
  },
  {
   "cell_type": "markdown",
   "id": "458ea2f1",
   "metadata": {
    "papermill": {
     "duration": 0.023985,
     "end_time": "2022-05-13T19:20:35.001463",
     "exception": false,
     "start_time": "2022-05-13T19:20:34.977478",
     "status": "completed"
    },
    "tags": []
   },
   "source": [
    "## 2.\n",
    "\n",
    "Create a dataframe `fruit_sales` that matches the diagram below:\n",
    "\n",
    "![](https://i.imgur.com/CHPn7ZF.png)"
   ]
  },
  {
   "cell_type": "code",
   "execution_count": 4,
   "id": "b38bc376",
   "metadata": {
    "execution": {
     "iopub.execute_input": "2022-05-13T19:20:35.053395Z",
     "iopub.status.busy": "2022-05-13T19:20:35.053034Z",
     "iopub.status.idle": "2022-05-13T19:20:35.069718Z",
     "shell.execute_reply": "2022-05-13T19:20:35.068615Z"
    },
    "papermill": {
     "duration": 0.046389,
     "end_time": "2022-05-13T19:20:35.071812",
     "exception": false,
     "start_time": "2022-05-13T19:20:35.025423",
     "status": "completed"
    },
    "tags": []
   },
   "outputs": [
    {
     "data": {
      "application/javascript": [
       "parent.postMessage({\"jupyterEvent\": \"custom.exercise_interaction\", \"data\": {\"outcomeType\": 1, \"valueTowardsCompletion\": 0.16666666666666666, \"interactionType\": 1, \"questionType\": 1, \"questionId\": \"2_FruitSalesDfCreation\", \"learnToolsVersion\": \"0.3.4\", \"failureMessage\": \"\", \"exceptionClass\": \"\", \"trace\": \"\"}}, \"*\")"
      ],
      "text/plain": [
       "<IPython.core.display.Javascript object>"
      ]
     },
     "metadata": {},
     "output_type": "display_data"
    },
    {
     "data": {
      "text/markdown": [
       "<span style=\"color:#33cc33\">Correct</span>"
      ],
      "text/plain": [
       "Correct"
      ]
     },
     "metadata": {},
     "output_type": "display_data"
    },
    {
     "data": {
      "text/html": [
       "<div>\n",
       "<style scoped>\n",
       "    .dataframe tbody tr th:only-of-type {\n",
       "        vertical-align: middle;\n",
       "    }\n",
       "\n",
       "    .dataframe tbody tr th {\n",
       "        vertical-align: top;\n",
       "    }\n",
       "\n",
       "    .dataframe thead th {\n",
       "        text-align: right;\n",
       "    }\n",
       "</style>\n",
       "<table border=\"1\" class=\"dataframe\">\n",
       "  <thead>\n",
       "    <tr style=\"text-align: right;\">\n",
       "      <th></th>\n",
       "      <th>Apples</th>\n",
       "      <th>Bananas</th>\n",
       "    </tr>\n",
       "  </thead>\n",
       "  <tbody>\n",
       "    <tr>\n",
       "      <th>2017 Sales</th>\n",
       "      <td>35</td>\n",
       "      <td>21</td>\n",
       "    </tr>\n",
       "    <tr>\n",
       "      <th>2018 Sales</th>\n",
       "      <td>41</td>\n",
       "      <td>34</td>\n",
       "    </tr>\n",
       "  </tbody>\n",
       "</table>\n",
       "</div>"
      ],
      "text/plain": [
       "            Apples  Bananas\n",
       "2017 Sales      35       21\n",
       "2018 Sales      41       34"
      ]
     },
     "execution_count": 4,
     "metadata": {},
     "output_type": "execute_result"
    }
   ],
   "source": [
    "# Your code goes here. Create a dataframe matching the above diagram and assign it to the variable fruit_sales.\n",
    "fruit_sales =  pd.DataFrame({'Apples':[35,41],'Bananas': [21,34]},index= ['2017 Sales', '2018 Sales'])\n",
    "\n",
    "# Check your answer\n",
    "q2.check()\n",
    "fruit_sales"
   ]
  },
  {
   "cell_type": "code",
   "execution_count": 5,
   "id": "b087037b",
   "metadata": {
    "execution": {
     "iopub.execute_input": "2022-05-13T19:20:35.125590Z",
     "iopub.status.busy": "2022-05-13T19:20:35.125071Z",
     "iopub.status.idle": "2022-05-13T19:20:35.128780Z",
     "shell.execute_reply": "2022-05-13T19:20:35.127716Z"
    },
    "papermill": {
     "duration": 0.033132,
     "end_time": "2022-05-13T19:20:35.131093",
     "exception": false,
     "start_time": "2022-05-13T19:20:35.097961",
     "status": "completed"
    },
    "tags": []
   },
   "outputs": [],
   "source": [
    "#q2.hint()\n",
    "#q2.solution()"
   ]
  },
  {
   "cell_type": "markdown",
   "id": "f5230f8e",
   "metadata": {
    "papermill": {
     "duration": 0.026275,
     "end_time": "2022-05-13T19:20:35.184027",
     "exception": false,
     "start_time": "2022-05-13T19:20:35.157752",
     "status": "completed"
    },
    "tags": []
   },
   "source": [
    "## 3.\n",
    "\n",
    "Create a variable `ingredients` with a Series that looks like:\n",
    "\n",
    "```\n",
    "Flour     4 cups\n",
    "Milk       1 cup\n",
    "Eggs     2 large\n",
    "Spam       1 can\n",
    "Name: Dinner, dtype: object\n",
    "```"
   ]
  },
  {
   "cell_type": "code",
   "execution_count": 6,
   "id": "dd024f38",
   "metadata": {
    "execution": {
     "iopub.execute_input": "2022-05-13T19:20:35.238385Z",
     "iopub.status.busy": "2022-05-13T19:20:35.238048Z",
     "iopub.status.idle": "2022-05-13T19:20:35.253296Z",
     "shell.execute_reply": "2022-05-13T19:20:35.252178Z"
    },
    "papermill": {
     "duration": 0.045474,
     "end_time": "2022-05-13T19:20:35.255718",
     "exception": false,
     "start_time": "2022-05-13T19:20:35.210244",
     "status": "completed"
    },
    "tags": []
   },
   "outputs": [
    {
     "data": {
      "application/javascript": [
       "parent.postMessage({\"jupyterEvent\": \"custom.exercise_interaction\", \"data\": {\"outcomeType\": 1, \"valueTowardsCompletion\": 0.16666666666666666, \"interactionType\": 1, \"questionType\": 2, \"questionId\": \"3_RecipeSeriesCreation\", \"learnToolsVersion\": \"0.3.4\", \"failureMessage\": \"\", \"exceptionClass\": \"\", \"trace\": \"\"}}, \"*\")"
      ],
      "text/plain": [
       "<IPython.core.display.Javascript object>"
      ]
     },
     "metadata": {},
     "output_type": "display_data"
    },
    {
     "data": {
      "text/markdown": [
       "<span style=\"color:#33cc33\">Correct</span>"
      ],
      "text/plain": [
       "Correct"
      ]
     },
     "metadata": {},
     "output_type": "display_data"
    },
    {
     "data": {
      "text/plain": [
       "Flour     4 cups\n",
       "Milk       1 cup\n",
       "Eggs     2 large\n",
       "Spam       1 can\n",
       "Name: Dinner, dtype: object"
      ]
     },
     "execution_count": 6,
     "metadata": {},
     "output_type": "execute_result"
    }
   ],
   "source": [
    "ingredients = pd.Series(['4 cups','1 cup','2 large','1 can'],index=['Flour','Milk','Eggs','Spam'],\n",
    "name= 'Dinner')\n",
    "# Check your answer\n",
    "q3.check()\n",
    "ingredients"
   ]
  },
  {
   "cell_type": "code",
   "execution_count": 7,
   "id": "c7cb2269",
   "metadata": {
    "execution": {
     "iopub.execute_input": "2022-05-13T19:20:35.313357Z",
     "iopub.status.busy": "2022-05-13T19:20:35.313034Z",
     "iopub.status.idle": "2022-05-13T19:20:35.317120Z",
     "shell.execute_reply": "2022-05-13T19:20:35.316205Z"
    },
    "papermill": {
     "duration": 0.035773,
     "end_time": "2022-05-13T19:20:35.319241",
     "exception": false,
     "start_time": "2022-05-13T19:20:35.283468",
     "status": "completed"
    },
    "tags": []
   },
   "outputs": [],
   "source": [
    "#q3.hint()\n",
    "#q3.solution()"
   ]
  },
  {
   "cell_type": "markdown",
   "id": "0e7328b9",
   "metadata": {
    "papermill": {
     "duration": 0.029469,
     "end_time": "2022-05-13T19:20:35.377047",
     "exception": false,
     "start_time": "2022-05-13T19:20:35.347578",
     "status": "completed"
    },
    "tags": []
   },
   "source": [
    "## 4.\n",
    "\n",
    "Read the following csv dataset of wine reviews into a DataFrame called `reviews`:\n",
    "\n",
    "![](https://i.imgur.com/74RCZtU.png)\n",
    "\n",
    "The filepath to the csv file is `../input/wine-reviews/winemag-data_first150k.csv`. The first few lines look like:\n",
    "\n",
    "```\n",
    ",country,description,designation,points,price,province,region_1,region_2,variety,winery\n",
    "0,US,\"This tremendous 100% varietal wine[...]\",Martha's Vineyard,96,235.0,California,Napa Valley,Napa,Cabernet Sauvignon,Heitz\n",
    "1,Spain,\"Ripe aromas of fig, blackberry and[...]\",Carodorum Selección Especial Reserva,96,110.0,Northern Spain,Toro,,Tinta de Toro,Bodega Carmen Rodríguez\n",
    "```"
   ]
  },
  {
   "cell_type": "code",
   "execution_count": 8,
   "id": "abe6c420",
   "metadata": {
    "execution": {
     "iopub.execute_input": "2022-05-13T19:20:35.445540Z",
     "iopub.status.busy": "2022-05-13T19:20:35.444335Z",
     "iopub.status.idle": "2022-05-13T19:20:36.432563Z",
     "shell.execute_reply": "2022-05-13T19:20:36.431410Z"
    },
    "papermill": {
     "duration": 1.02195,
     "end_time": "2022-05-13T19:20:36.434932",
     "exception": false,
     "start_time": "2022-05-13T19:20:35.412982",
     "status": "completed"
    },
    "tags": []
   },
   "outputs": [
    {
     "data": {
      "application/javascript": [
       "parent.postMessage({\"jupyterEvent\": \"custom.exercise_interaction\", \"data\": {\"outcomeType\": 1, \"valueTowardsCompletion\": 0.16666666666666666, \"interactionType\": 1, \"questionType\": 1, \"questionId\": \"4_ReadWineCsv\", \"learnToolsVersion\": \"0.3.4\", \"failureMessage\": \"\", \"exceptionClass\": \"\", \"trace\": \"\"}}, \"*\")"
      ],
      "text/plain": [
       "<IPython.core.display.Javascript object>"
      ]
     },
     "metadata": {},
     "output_type": "display_data"
    },
    {
     "data": {
      "text/markdown": [
       "<span style=\"color:#33cc33\">Correct</span>"
      ],
      "text/plain": [
       "Correct"
      ]
     },
     "metadata": {},
     "output_type": "display_data"
    }
   ],
   "source": [
    "reviews = pd.read_csv(\"../input/wine-reviews/winemag-data_first150k.csv\")\n",
    "reviews.drop(reviews.filter(regex=\"Unnamed\"),axis=1, inplace=True)\n",
    "reviews\n",
    "# Check your answer\n",
    "q4.check()\n"
   ]
  },
  {
   "cell_type": "code",
   "execution_count": 9,
   "id": "4cfbc6a9",
   "metadata": {
    "execution": {
     "iopub.execute_input": "2022-05-13T19:20:36.503628Z",
     "iopub.status.busy": "2022-05-13T19:20:36.503337Z",
     "iopub.status.idle": "2022-05-13T19:20:36.507292Z",
     "shell.execute_reply": "2022-05-13T19:20:36.506200Z"
    },
    "papermill": {
     "duration": 0.045412,
     "end_time": "2022-05-13T19:20:36.509423",
     "exception": false,
     "start_time": "2022-05-13T19:20:36.464011",
     "status": "completed"
    },
    "tags": []
   },
   "outputs": [],
   "source": [
    "#q4.hint()\n",
    "#q4.solution()"
   ]
  },
  {
   "cell_type": "markdown",
   "id": "cee3846d",
   "metadata": {
    "papermill": {
     "duration": 0.028655,
     "end_time": "2022-05-13T19:20:36.567239",
     "exception": false,
     "start_time": "2022-05-13T19:20:36.538584",
     "status": "completed"
    },
    "tags": []
   },
   "source": [
    "## 5.\n",
    "\n",
    "Run the cell below to create and display a DataFrame called `animals`:"
   ]
  },
  {
   "cell_type": "code",
   "execution_count": 10,
   "id": "f4bde210",
   "metadata": {
    "execution": {
     "iopub.execute_input": "2022-05-13T19:20:36.627540Z",
     "iopub.status.busy": "2022-05-13T19:20:36.627023Z",
     "iopub.status.idle": "2022-05-13T19:20:36.638503Z",
     "shell.execute_reply": "2022-05-13T19:20:36.637527Z"
    },
    "papermill": {
     "duration": 0.044374,
     "end_time": "2022-05-13T19:20:36.640643",
     "exception": false,
     "start_time": "2022-05-13T19:20:36.596269",
     "status": "completed"
    },
    "tags": []
   },
   "outputs": [
    {
     "data": {
      "text/html": [
       "<div>\n",
       "<style scoped>\n",
       "    .dataframe tbody tr th:only-of-type {\n",
       "        vertical-align: middle;\n",
       "    }\n",
       "\n",
       "    .dataframe tbody tr th {\n",
       "        vertical-align: top;\n",
       "    }\n",
       "\n",
       "    .dataframe thead th {\n",
       "        text-align: right;\n",
       "    }\n",
       "</style>\n",
       "<table border=\"1\" class=\"dataframe\">\n",
       "  <thead>\n",
       "    <tr style=\"text-align: right;\">\n",
       "      <th></th>\n",
       "      <th>Cows</th>\n",
       "      <th>Goats</th>\n",
       "    </tr>\n",
       "  </thead>\n",
       "  <tbody>\n",
       "    <tr>\n",
       "      <th>Year 1</th>\n",
       "      <td>12</td>\n",
       "      <td>22</td>\n",
       "    </tr>\n",
       "    <tr>\n",
       "      <th>Year 2</th>\n",
       "      <td>20</td>\n",
       "      <td>19</td>\n",
       "    </tr>\n",
       "  </tbody>\n",
       "</table>\n",
       "</div>"
      ],
      "text/plain": [
       "        Cows  Goats\n",
       "Year 1    12     22\n",
       "Year 2    20     19"
      ]
     },
     "execution_count": 10,
     "metadata": {},
     "output_type": "execute_result"
    }
   ],
   "source": [
    "animals = pd.DataFrame({'Cows': [12, 20], 'Goats': [22, 19]}, index=['Year 1', 'Year 2'])\n",
    "animals"
   ]
  },
  {
   "cell_type": "markdown",
   "id": "c5111dfb",
   "metadata": {
    "papermill": {
     "duration": 0.029197,
     "end_time": "2022-05-13T19:20:36.699491",
     "exception": false,
     "start_time": "2022-05-13T19:20:36.670294",
     "status": "completed"
    },
    "tags": []
   },
   "source": [
    "In the cell below, write code to save this DataFrame to disk as a csv file with the name `cows_and_goats.csv`."
   ]
  },
  {
   "cell_type": "code",
   "execution_count": 11,
   "id": "11ab97c6",
   "metadata": {
    "execution": {
     "iopub.execute_input": "2022-05-13T19:20:36.760896Z",
     "iopub.status.busy": "2022-05-13T19:20:36.760568Z",
     "iopub.status.idle": "2022-05-13T19:20:36.775360Z",
     "shell.execute_reply": "2022-05-13T19:20:36.774270Z"
    },
    "papermill": {
     "duration": 0.048374,
     "end_time": "2022-05-13T19:20:36.777454",
     "exception": false,
     "start_time": "2022-05-13T19:20:36.729080",
     "status": "completed"
    },
    "tags": []
   },
   "outputs": [
    {
     "data": {
      "application/javascript": [
       "parent.postMessage({\"jupyterEvent\": \"custom.exercise_interaction\", \"data\": {\"outcomeType\": 1, \"valueTowardsCompletion\": 0.16666666666666666, \"interactionType\": 1, \"questionType\": 2, \"questionId\": \"5_SaveAnimalsCsv\", \"learnToolsVersion\": \"0.3.4\", \"failureMessage\": \"\", \"exceptionClass\": \"\", \"trace\": \"\"}}, \"*\")"
      ],
      "text/plain": [
       "<IPython.core.display.Javascript object>"
      ]
     },
     "metadata": {},
     "output_type": "display_data"
    },
    {
     "data": {
      "text/markdown": [
       "<span style=\"color:#33cc33\">Correct</span>"
      ],
      "text/plain": [
       "Correct"
      ]
     },
     "metadata": {},
     "output_type": "display_data"
    }
   ],
   "source": [
    "# Your code goes here\n",
    "animals.to_csv('cows_and_goats.csv')\n",
    "# Check your answer\n",
    "q5.check()"
   ]
  },
  {
   "cell_type": "code",
   "execution_count": 12,
   "id": "bec30172",
   "metadata": {
    "execution": {
     "iopub.execute_input": "2022-05-13T19:20:36.841584Z",
     "iopub.status.busy": "2022-05-13T19:20:36.840734Z",
     "iopub.status.idle": "2022-05-13T19:20:36.844934Z",
     "shell.execute_reply": "2022-05-13T19:20:36.843935Z"
    },
    "papermill": {
     "duration": 0.038934,
     "end_time": "2022-05-13T19:20:36.847270",
     "exception": false,
     "start_time": "2022-05-13T19:20:36.808336",
     "status": "completed"
    },
    "tags": []
   },
   "outputs": [],
   "source": [
    "#q5.hint()\n",
    "#q5.solution()"
   ]
  },
  {
   "cell_type": "markdown",
   "id": "9f3f9ad7",
   "metadata": {
    "papermill": {
     "duration": 0.03082,
     "end_time": "2022-05-13T19:20:36.908997",
     "exception": false,
     "start_time": "2022-05-13T19:20:36.878177",
     "status": "completed"
    },
    "tags": []
   },
   "source": [
    "# Keep going\n",
    "\n",
    "Move on to learn about **[indexing, selecting and assigning](https://www.kaggle.com/residentmario/indexing-selecting-assigning)**."
   ]
  },
  {
   "cell_type": "markdown",
   "id": "deca2532",
   "metadata": {
    "papermill": {
     "duration": 0.031996,
     "end_time": "2022-05-13T19:20:36.971812",
     "exception": false,
     "start_time": "2022-05-13T19:20:36.939816",
     "status": "completed"
    },
    "tags": []
   },
   "source": [
    "---\n",
    "\n",
    "\n",
    "\n",
    "\n",
    "*Have questions or comments? Visit the [course discussion forum](https://www.kaggle.com/learn/pandas/discussion) to chat with other learners.*"
   ]
  }
 ],
 "metadata": {
  "kernelspec": {
   "display_name": "Python 3",
   "language": "python",
   "name": "python3"
  },
  "language_info": {
   "codemirror_mode": {
    "name": "ipython",
    "version": 3
   },
   "file_extension": ".py",
   "mimetype": "text/x-python",
   "name": "python",
   "nbconvert_exporter": "python",
   "pygments_lexer": "ipython3",
   "version": "3.7.12"
  },
  "papermill": {
   "default_parameters": {},
   "duration": 15.262118,
   "end_time": "2022-05-13T19:20:37.825459",
   "environment_variables": {},
   "exception": null,
   "input_path": "__notebook__.ipynb",
   "output_path": "__notebook__.ipynb",
   "parameters": {},
   "start_time": "2022-05-13T19:20:22.563341",
   "version": "2.3.4"
  }
 },
 "nbformat": 4,
 "nbformat_minor": 5
}
