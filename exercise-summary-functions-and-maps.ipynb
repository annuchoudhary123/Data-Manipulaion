{
 "cells": [
  {
   "cell_type": "markdown",
   "id": "2e3119c9",
   "metadata": {
    "papermill": {
     "duration": 0.019012,
     "end_time": "2022-05-13T19:32:16.969236",
     "exception": false,
     "start_time": "2022-05-13T19:32:16.950224",
     "status": "completed"
    },
    "tags": []
   },
   "source": [
    "**This notebook is an exercise in the [Pandas](https://www.kaggle.com/learn/pandas) course.  You can reference the tutorial at [this link](https://www.kaggle.com/residentmario/summary-functions-and-maps).**\n",
    "\n",
    "---\n"
   ]
  },
  {
   "cell_type": "markdown",
   "id": "298c2e5f",
   "metadata": {
    "papermill": {
     "duration": 0.016761,
     "end_time": "2022-05-13T19:32:17.003178",
     "exception": false,
     "start_time": "2022-05-13T19:32:16.986417",
     "status": "completed"
    },
    "tags": []
   },
   "source": [
    "# Introduction\n",
    "\n",
    "Now you are ready to get a deeper understanding of your data.\n",
    "\n",
    "Run the following cell to load your data and some utility functions (including code to check your answers)."
   ]
  },
  {
   "cell_type": "code",
   "execution_count": 1,
   "id": "846e2134",
   "metadata": {
    "execution": {
     "iopub.execute_input": "2022-05-13T19:32:17.039334Z",
     "iopub.status.busy": "2022-05-13T19:32:17.038721Z",
     "iopub.status.idle": "2022-05-13T19:32:23.272694Z",
     "shell.execute_reply": "2022-05-13T19:32:23.271618Z"
    },
    "papermill": {
     "duration": 6.25602,
     "end_time": "2022-05-13T19:32:23.276281",
     "exception": false,
     "start_time": "2022-05-13T19:32:17.020261",
     "status": "completed"
    },
    "tags": []
   },
   "outputs": [
    {
     "name": "stdout",
     "output_type": "stream",
     "text": [
      "Setup complete.\n"
     ]
    },
    {
     "data": {
      "text/html": [
       "<div>\n",
       "<style scoped>\n",
       "    .dataframe tbody tr th:only-of-type {\n",
       "        vertical-align: middle;\n",
       "    }\n",
       "\n",
       "    .dataframe tbody tr th {\n",
       "        vertical-align: top;\n",
       "    }\n",
       "\n",
       "    .dataframe thead th {\n",
       "        text-align: right;\n",
       "    }\n",
       "</style>\n",
       "<table border=\"1\" class=\"dataframe\">\n",
       "  <thead>\n",
       "    <tr style=\"text-align: right;\">\n",
       "      <th></th>\n",
       "      <th>country</th>\n",
       "      <th>description</th>\n",
       "      <th>designation</th>\n",
       "      <th>points</th>\n",
       "      <th>price</th>\n",
       "      <th>province</th>\n",
       "      <th>region_1</th>\n",
       "      <th>region_2</th>\n",
       "      <th>taster_name</th>\n",
       "      <th>taster_twitter_handle</th>\n",
       "      <th>title</th>\n",
       "      <th>variety</th>\n",
       "      <th>winery</th>\n",
       "    </tr>\n",
       "  </thead>\n",
       "  <tbody>\n",
       "    <tr>\n",
       "      <th>0</th>\n",
       "      <td>Italy</td>\n",
       "      <td>Aromas include tropical fruit, broom, brimston...</td>\n",
       "      <td>Vulkà Bianco</td>\n",
       "      <td>87</td>\n",
       "      <td>NaN</td>\n",
       "      <td>Sicily &amp; Sardinia</td>\n",
       "      <td>Etna</td>\n",
       "      <td>NaN</td>\n",
       "      <td>Kerin O’Keefe</td>\n",
       "      <td>@kerinokeefe</td>\n",
       "      <td>Nicosia 2013 Vulkà Bianco  (Etna)</td>\n",
       "      <td>White Blend</td>\n",
       "      <td>Nicosia</td>\n",
       "    </tr>\n",
       "    <tr>\n",
       "      <th>1</th>\n",
       "      <td>Portugal</td>\n",
       "      <td>This is ripe and fruity, a wine that is smooth...</td>\n",
       "      <td>Avidagos</td>\n",
       "      <td>87</td>\n",
       "      <td>15.0</td>\n",
       "      <td>Douro</td>\n",
       "      <td>NaN</td>\n",
       "      <td>NaN</td>\n",
       "      <td>Roger Voss</td>\n",
       "      <td>@vossroger</td>\n",
       "      <td>Quinta dos Avidagos 2011 Avidagos Red (Douro)</td>\n",
       "      <td>Portuguese Red</td>\n",
       "      <td>Quinta dos Avidagos</td>\n",
       "    </tr>\n",
       "    <tr>\n",
       "      <th>2</th>\n",
       "      <td>US</td>\n",
       "      <td>Tart and snappy, the flavors of lime flesh and...</td>\n",
       "      <td>NaN</td>\n",
       "      <td>87</td>\n",
       "      <td>14.0</td>\n",
       "      <td>Oregon</td>\n",
       "      <td>Willamette Valley</td>\n",
       "      <td>Willamette Valley</td>\n",
       "      <td>Paul Gregutt</td>\n",
       "      <td>@paulgwine</td>\n",
       "      <td>Rainstorm 2013 Pinot Gris (Willamette Valley)</td>\n",
       "      <td>Pinot Gris</td>\n",
       "      <td>Rainstorm</td>\n",
       "    </tr>\n",
       "    <tr>\n",
       "      <th>3</th>\n",
       "      <td>US</td>\n",
       "      <td>Pineapple rind, lemon pith and orange blossom ...</td>\n",
       "      <td>Reserve Late Harvest</td>\n",
       "      <td>87</td>\n",
       "      <td>13.0</td>\n",
       "      <td>Michigan</td>\n",
       "      <td>Lake Michigan Shore</td>\n",
       "      <td>NaN</td>\n",
       "      <td>Alexander Peartree</td>\n",
       "      <td>NaN</td>\n",
       "      <td>St. Julian 2013 Reserve Late Harvest Riesling ...</td>\n",
       "      <td>Riesling</td>\n",
       "      <td>St. Julian</td>\n",
       "    </tr>\n",
       "    <tr>\n",
       "      <th>4</th>\n",
       "      <td>US</td>\n",
       "      <td>Much like the regular bottling from 2012, this...</td>\n",
       "      <td>Vintner's Reserve Wild Child Block</td>\n",
       "      <td>87</td>\n",
       "      <td>65.0</td>\n",
       "      <td>Oregon</td>\n",
       "      <td>Willamette Valley</td>\n",
       "      <td>Willamette Valley</td>\n",
       "      <td>Paul Gregutt</td>\n",
       "      <td>@paulgwine</td>\n",
       "      <td>Sweet Cheeks 2012 Vintner's Reserve Wild Child...</td>\n",
       "      <td>Pinot Noir</td>\n",
       "      <td>Sweet Cheeks</td>\n",
       "    </tr>\n",
       "  </tbody>\n",
       "</table>\n",
       "</div>"
      ],
      "text/plain": [
       "    country                                        description  \\\n",
       "0     Italy  Aromas include tropical fruit, broom, brimston...   \n",
       "1  Portugal  This is ripe and fruity, a wine that is smooth...   \n",
       "2        US  Tart and snappy, the flavors of lime flesh and...   \n",
       "3        US  Pineapple rind, lemon pith and orange blossom ...   \n",
       "4        US  Much like the regular bottling from 2012, this...   \n",
       "\n",
       "                          designation  points  price           province  \\\n",
       "0                        Vulkà Bianco      87    NaN  Sicily & Sardinia   \n",
       "1                            Avidagos      87   15.0              Douro   \n",
       "2                                 NaN      87   14.0             Oregon   \n",
       "3                Reserve Late Harvest      87   13.0           Michigan   \n",
       "4  Vintner's Reserve Wild Child Block      87   65.0             Oregon   \n",
       "\n",
       "              region_1           region_2         taster_name  \\\n",
       "0                 Etna                NaN       Kerin O’Keefe   \n",
       "1                  NaN                NaN          Roger Voss   \n",
       "2    Willamette Valley  Willamette Valley        Paul Gregutt   \n",
       "3  Lake Michigan Shore                NaN  Alexander Peartree   \n",
       "4    Willamette Valley  Willamette Valley        Paul Gregutt   \n",
       "\n",
       "  taster_twitter_handle                                              title  \\\n",
       "0          @kerinokeefe                  Nicosia 2013 Vulkà Bianco  (Etna)   \n",
       "1            @vossroger      Quinta dos Avidagos 2011 Avidagos Red (Douro)   \n",
       "2           @paulgwine       Rainstorm 2013 Pinot Gris (Willamette Valley)   \n",
       "3                   NaN  St. Julian 2013 Reserve Late Harvest Riesling ...   \n",
       "4           @paulgwine   Sweet Cheeks 2012 Vintner's Reserve Wild Child...   \n",
       "\n",
       "          variety               winery  \n",
       "0     White Blend              Nicosia  \n",
       "1  Portuguese Red  Quinta dos Avidagos  \n",
       "2      Pinot Gris            Rainstorm  \n",
       "3        Riesling           St. Julian  \n",
       "4      Pinot Noir         Sweet Cheeks  "
      ]
     },
     "execution_count": 1,
     "metadata": {},
     "output_type": "execute_result"
    }
   ],
   "source": [
    "import pandas as pd\n",
    "pd.set_option(\"display.max_rows\", 5)\n",
    "reviews = pd.read_csv(\"../input/wine-reviews/winemag-data-130k-v2.csv\", index_col=0)\n",
    "\n",
    "from learntools.core import binder; binder.bind(globals())\n",
    "from learntools.pandas.summary_functions_and_maps import *\n",
    "print(\"Setup complete.\")\n",
    "\n",
    "reviews.head()"
   ]
  },
  {
   "cell_type": "markdown",
   "id": "8113977d",
   "metadata": {
    "papermill": {
     "duration": 0.017634,
     "end_time": "2022-05-13T19:32:23.312431",
     "exception": false,
     "start_time": "2022-05-13T19:32:23.294797",
     "status": "completed"
    },
    "tags": []
   },
   "source": [
    "# Exercises"
   ]
  },
  {
   "cell_type": "markdown",
   "id": "a306e869",
   "metadata": {
    "papermill": {
     "duration": 0.017721,
     "end_time": "2022-05-13T19:32:23.348139",
     "exception": false,
     "start_time": "2022-05-13T19:32:23.330418",
     "status": "completed"
    },
    "tags": []
   },
   "source": [
    "## 1.\n",
    "\n",
    "What is the median of the `points` column in the `reviews` DataFrame?"
   ]
  },
  {
   "cell_type": "code",
   "execution_count": 2,
   "id": "d0d43ddc",
   "metadata": {
    "execution": {
     "iopub.execute_input": "2022-05-13T19:32:23.386822Z",
     "iopub.status.busy": "2022-05-13T19:32:23.386336Z",
     "iopub.status.idle": "2022-05-13T19:32:23.394753Z",
     "shell.execute_reply": "2022-05-13T19:32:23.394145Z"
    },
    "papermill": {
     "duration": 0.03049,
     "end_time": "2022-05-13T19:32:23.396683",
     "exception": false,
     "start_time": "2022-05-13T19:32:23.366193",
     "status": "completed"
    },
    "tags": []
   },
   "outputs": [
    {
     "data": {
      "application/javascript": [
       "parent.postMessage({\"jupyterEvent\": \"custom.exercise_interaction\", \"data\": {\"outcomeType\": 1, \"valueTowardsCompletion\": 0.14285714285714285, \"interactionType\": 1, \"questionType\": 1, \"questionId\": \"1_MedianPoints\", \"learnToolsVersion\": \"0.3.4\", \"failureMessage\": \"\", \"exceptionClass\": \"\", \"trace\": \"\"}}, \"*\")"
      ],
      "text/plain": [
       "<IPython.core.display.Javascript object>"
      ]
     },
     "metadata": {},
     "output_type": "display_data"
    },
    {
     "data": {
      "text/markdown": [
       "<span style=\"color:#33cc33\">Correct</span>"
      ],
      "text/plain": [
       "Correct"
      ]
     },
     "metadata": {},
     "output_type": "display_data"
    }
   ],
   "source": [
    "median_points = reviews.points.median()\n",
    "\n",
    "# Check your answer\n",
    "q1.check()"
   ]
  },
  {
   "cell_type": "code",
   "execution_count": 3,
   "id": "eb07e43e",
   "metadata": {
    "execution": {
     "iopub.execute_input": "2022-05-13T19:32:23.437309Z",
     "iopub.status.busy": "2022-05-13T19:32:23.437027Z",
     "iopub.status.idle": "2022-05-13T19:32:23.440615Z",
     "shell.execute_reply": "2022-05-13T19:32:23.439307Z"
    },
    "papermill": {
     "duration": 0.026966,
     "end_time": "2022-05-13T19:32:23.443169",
     "exception": false,
     "start_time": "2022-05-13T19:32:23.416203",
     "status": "completed"
    },
    "tags": []
   },
   "outputs": [],
   "source": [
    "#q1.hint()\n",
    "#q1.solution()"
   ]
  },
  {
   "cell_type": "markdown",
   "id": "c9c629e5",
   "metadata": {
    "papermill": {
     "duration": 0.022427,
     "end_time": "2022-05-13T19:32:23.486592",
     "exception": false,
     "start_time": "2022-05-13T19:32:23.464165",
     "status": "completed"
    },
    "tags": []
   },
   "source": [
    "## 2. \n",
    "What countries are represented in the dataset? (Your answer should not include any duplicates.)"
   ]
  },
  {
   "cell_type": "code",
   "execution_count": 4,
   "id": "143280c9",
   "metadata": {
    "execution": {
     "iopub.execute_input": "2022-05-13T19:32:23.528666Z",
     "iopub.status.busy": "2022-05-13T19:32:23.527863Z",
     "iopub.status.idle": "2022-05-13T19:32:23.541205Z",
     "shell.execute_reply": "2022-05-13T19:32:23.540515Z"
    },
    "papermill": {
     "duration": 0.037033,
     "end_time": "2022-05-13T19:32:23.543207",
     "exception": false,
     "start_time": "2022-05-13T19:32:23.506174",
     "status": "completed"
    },
    "tags": []
   },
   "outputs": [
    {
     "data": {
      "application/javascript": [
       "parent.postMessage({\"jupyterEvent\": \"custom.exercise_interaction\", \"data\": {\"outcomeType\": 1, \"valueTowardsCompletion\": 0.14285714285714285, \"interactionType\": 1, \"questionType\": 2, \"questionId\": \"2_UniqueCountries\", \"learnToolsVersion\": \"0.3.4\", \"failureMessage\": \"\", \"exceptionClass\": \"\", \"trace\": \"\"}}, \"*\")"
      ],
      "text/plain": [
       "<IPython.core.display.Javascript object>"
      ]
     },
     "metadata": {},
     "output_type": "display_data"
    },
    {
     "data": {
      "text/markdown": [
       "<span style=\"color:#33cc33\">Correct</span>"
      ],
      "text/plain": [
       "Correct"
      ]
     },
     "metadata": {},
     "output_type": "display_data"
    }
   ],
   "source": [
    "countries = reviews.country.unique()\n",
    "\n",
    "# Check your answer\n",
    "q2.check()"
   ]
  },
  {
   "cell_type": "code",
   "execution_count": 5,
   "id": "820398fc",
   "metadata": {
    "execution": {
     "iopub.execute_input": "2022-05-13T19:32:23.589192Z",
     "iopub.status.busy": "2022-05-13T19:32:23.588403Z",
     "iopub.status.idle": "2022-05-13T19:32:23.592266Z",
     "shell.execute_reply": "2022-05-13T19:32:23.591478Z"
    },
    "papermill": {
     "duration": 0.02787,
     "end_time": "2022-05-13T19:32:23.594117",
     "exception": false,
     "start_time": "2022-05-13T19:32:23.566247",
     "status": "completed"
    },
    "tags": []
   },
   "outputs": [],
   "source": [
    "#q2.hint()\n",
    "#q2.solution()"
   ]
  },
  {
   "cell_type": "markdown",
   "id": "d073e2e7",
   "metadata": {
    "papermill": {
     "duration": 0.020098,
     "end_time": "2022-05-13T19:32:23.634681",
     "exception": false,
     "start_time": "2022-05-13T19:32:23.614583",
     "status": "completed"
    },
    "tags": []
   },
   "source": [
    "## 3.\n",
    "How often does each country appear in the dataset? Create a Series `reviews_per_country` mapping countries to the count of reviews of wines from that country."
   ]
  },
  {
   "cell_type": "code",
   "execution_count": 6,
   "id": "b60cc0dd",
   "metadata": {
    "execution": {
     "iopub.execute_input": "2022-05-13T19:32:23.681698Z",
     "iopub.status.busy": "2022-05-13T19:32:23.681089Z",
     "iopub.status.idle": "2022-05-13T19:32:23.698150Z",
     "shell.execute_reply": "2022-05-13T19:32:23.697194Z"
    },
    "papermill": {
     "duration": 0.041373,
     "end_time": "2022-05-13T19:32:23.700105",
     "exception": false,
     "start_time": "2022-05-13T19:32:23.658732",
     "status": "completed"
    },
    "tags": []
   },
   "outputs": [
    {
     "data": {
      "application/javascript": [
       "parent.postMessage({\"jupyterEvent\": \"custom.exercise_interaction\", \"data\": {\"outcomeType\": 1, \"valueTowardsCompletion\": 0.14285714285714285, \"interactionType\": 1, \"questionType\": 1, \"questionId\": \"3_ReviewsPerCountry\", \"learnToolsVersion\": \"0.3.4\", \"failureMessage\": \"\", \"exceptionClass\": \"\", \"trace\": \"\"}}, \"*\")"
      ],
      "text/plain": [
       "<IPython.core.display.Javascript object>"
      ]
     },
     "metadata": {},
     "output_type": "display_data"
    },
    {
     "data": {
      "text/markdown": [
       "<span style=\"color:#33cc33\">Correct</span>"
      ],
      "text/plain": [
       "Correct"
      ]
     },
     "metadata": {},
     "output_type": "display_data"
    }
   ],
   "source": [
    "reviews_per_country = reviews['country'].value_counts()\n",
    "reviews_per_country\n",
    "# Check your answer\n",
    "q3.check()"
   ]
  },
  {
   "cell_type": "code",
   "execution_count": 7,
   "id": "ccb63443",
   "metadata": {
    "execution": {
     "iopub.execute_input": "2022-05-13T19:32:23.745528Z",
     "iopub.status.busy": "2022-05-13T19:32:23.745260Z",
     "iopub.status.idle": "2022-05-13T19:32:23.748164Z",
     "shell.execute_reply": "2022-05-13T19:32:23.747510Z"
    },
    "papermill": {
     "duration": 0.028247,
     "end_time": "2022-05-13T19:32:23.750018",
     "exception": false,
     "start_time": "2022-05-13T19:32:23.721771",
     "status": "completed"
    },
    "tags": []
   },
   "outputs": [],
   "source": [
    "#q3.hint()\n",
    "#q3.solution()"
   ]
  },
  {
   "cell_type": "markdown",
   "id": "4d22eb7d",
   "metadata": {
    "papermill": {
     "duration": 0.021206,
     "end_time": "2022-05-13T19:32:23.793437",
     "exception": false,
     "start_time": "2022-05-13T19:32:23.772231",
     "status": "completed"
    },
    "tags": []
   },
   "source": [
    "## 4.\n",
    "Create variable `centered_price` containing a version of the `price` column with the mean price subtracted.\n",
    "\n",
    "(Note: this 'centering' transformation is a common preprocessing step before applying various machine learning algorithms.) "
   ]
  },
  {
   "cell_type": "code",
   "execution_count": 8,
   "id": "73768a2b",
   "metadata": {
    "execution": {
     "iopub.execute_input": "2022-05-13T19:32:23.838772Z",
     "iopub.status.busy": "2022-05-13T19:32:23.837998Z",
     "iopub.status.idle": "2022-05-13T19:32:23.892504Z",
     "shell.execute_reply": "2022-05-13T19:32:23.891972Z"
    },
    "papermill": {
     "duration": 0.079638,
     "end_time": "2022-05-13T19:32:23.894241",
     "exception": false,
     "start_time": "2022-05-13T19:32:23.814603",
     "status": "completed"
    },
    "tags": []
   },
   "outputs": [
    {
     "data": {
      "application/javascript": [
       "parent.postMessage({\"jupyterEvent\": \"custom.exercise_interaction\", \"data\": {\"outcomeType\": 1, \"valueTowardsCompletion\": 0.14285714285714285, \"interactionType\": 1, \"questionType\": 1, \"questionId\": \"4_CenteredPrice\", \"learnToolsVersion\": \"0.3.4\", \"failureMessage\": \"\", \"exceptionClass\": \"\", \"trace\": \"\"}}, \"*\")"
      ],
      "text/plain": [
       "<IPython.core.display.Javascript object>"
      ]
     },
     "metadata": {},
     "output_type": "display_data"
    },
    {
     "data": {
      "text/markdown": [
       "<span style=\"color:#33cc33\">Correct</span>"
      ],
      "text/plain": [
       "Correct"
      ]
     },
     "metadata": {},
     "output_type": "display_data"
    }
   ],
   "source": [
    "mean_price = reviews.price.mean()\n",
    "centered_price = reviews.price.map(lambda price: price-mean_price)\n",
    "\n",
    "# Check your answer\n",
    "q4.check()"
   ]
  },
  {
   "cell_type": "code",
   "execution_count": 9,
   "id": "7ee8cf5c",
   "metadata": {
    "execution": {
     "iopub.execute_input": "2022-05-13T19:32:23.940914Z",
     "iopub.status.busy": "2022-05-13T19:32:23.940129Z",
     "iopub.status.idle": "2022-05-13T19:32:23.944013Z",
     "shell.execute_reply": "2022-05-13T19:32:23.943174Z"
    },
    "papermill": {
     "duration": 0.030287,
     "end_time": "2022-05-13T19:32:23.946237",
     "exception": false,
     "start_time": "2022-05-13T19:32:23.915950",
     "status": "completed"
    },
    "tags": []
   },
   "outputs": [],
   "source": [
    "#q4.hint()\n",
    "#q4.solution()"
   ]
  },
  {
   "cell_type": "markdown",
   "id": "8037df33",
   "metadata": {
    "papermill": {
     "duration": 0.022252,
     "end_time": "2022-05-13T19:32:23.991610",
     "exception": false,
     "start_time": "2022-05-13T19:32:23.969358",
     "status": "completed"
    },
    "tags": []
   },
   "source": [
    "## 5.\n",
    "I'm an economical wine buyer. Which wine is the \"best bargain\"? Create a variable `bargain_wine` with the title of the wine with the highest points-to-price ratio in the dataset."
   ]
  },
  {
   "cell_type": "code",
   "execution_count": 10,
   "id": "eb0fb91b",
   "metadata": {
    "execution": {
     "iopub.execute_input": "2022-05-13T19:32:24.038623Z",
     "iopub.status.busy": "2022-05-13T19:32:24.038341Z",
     "iopub.status.idle": "2022-05-13T19:32:24.051218Z",
     "shell.execute_reply": "2022-05-13T19:32:24.050611Z"
    },
    "papermill": {
     "duration": 0.039437,
     "end_time": "2022-05-13T19:32:24.054183",
     "exception": false,
     "start_time": "2022-05-13T19:32:24.014746",
     "status": "completed"
    },
    "tags": []
   },
   "outputs": [
    {
     "data": {
      "application/javascript": [
       "parent.postMessage({\"jupyterEvent\": \"custom.exercise_interaction\", \"data\": {\"outcomeType\": 1, \"valueTowardsCompletion\": 0.14285714285714285, \"interactionType\": 1, \"questionType\": 2, \"questionId\": \"5_BargainWine\", \"learnToolsVersion\": \"0.3.4\", \"failureMessage\": \"\", \"exceptionClass\": \"\", \"trace\": \"\"}}, \"*\")"
      ],
      "text/plain": [
       "<IPython.core.display.Javascript object>"
      ]
     },
     "metadata": {},
     "output_type": "display_data"
    },
    {
     "data": {
      "text/markdown": [
       "<span style=\"color:#33cc33\">Correct</span>"
      ],
      "text/plain": [
       "Correct"
      ]
     },
     "metadata": {},
     "output_type": "display_data"
    }
   ],
   "source": [
    "idx = (reviews['points'] / reviews ['price']).idxmax()\n",
    "bargain_wine = reviews['title'].loc[idx]\n",
    "\n",
    "# Check your answer\n",
    "q5.check()"
   ]
  },
  {
   "cell_type": "code",
   "execution_count": 11,
   "id": "24f9573d",
   "metadata": {
    "execution": {
     "iopub.execute_input": "2022-05-13T19:32:24.103383Z",
     "iopub.status.busy": "2022-05-13T19:32:24.103100Z",
     "iopub.status.idle": "2022-05-13T19:32:24.109298Z",
     "shell.execute_reply": "2022-05-13T19:32:24.108754Z"
    },
    "papermill": {
     "duration": 0.033614,
     "end_time": "2022-05-13T19:32:24.110966",
     "exception": false,
     "start_time": "2022-05-13T19:32:24.077352",
     "status": "completed"
    },
    "tags": []
   },
   "outputs": [
    {
     "data": {
      "application/javascript": [
       "parent.postMessage({\"jupyterEvent\": \"custom.exercise_interaction\", \"data\": {\"interactionType\": 2, \"questionType\": 2, \"questionId\": \"5_BargainWine\", \"learnToolsVersion\": \"0.3.4\", \"valueTowardsCompletion\": 0.0, \"failureMessage\": \"\", \"exceptionClass\": \"\", \"trace\": \"\", \"outcomeType\": 4}}, \"*\")"
      ],
      "text/plain": [
       "<IPython.core.display.Javascript object>"
      ]
     },
     "metadata": {},
     "output_type": "display_data"
    },
    {
     "data": {
      "text/markdown": [
       "<span style=\"color:#3366cc\">Hint:</span> The `idxmax` method may be useful here."
      ],
      "text/plain": [
       "Hint: The `idxmax` method may be useful here."
      ]
     },
     "metadata": {},
     "output_type": "display_data"
    }
   ],
   "source": [
    "q5.hint()\n",
    "#q5.solution()"
   ]
  },
  {
   "cell_type": "markdown",
   "id": "30293e42",
   "metadata": {
    "papermill": {
     "duration": 0.024818,
     "end_time": "2022-05-13T19:32:24.159712",
     "exception": false,
     "start_time": "2022-05-13T19:32:24.134894",
     "status": "completed"
    },
    "tags": []
   },
   "source": [
    "## 6.\n",
    "There are only so many words you can use when describing a bottle of wine. Is a wine more likely to be \"tropical\" or \"fruity\"? Create a Series `descriptor_counts` counting how many times each of these two words appears in the `description` column in the dataset. (For simplicity, let's ignore the capitalized versions of these words.)"
   ]
  },
  {
   "cell_type": "code",
   "execution_count": 12,
   "id": "c604beb2",
   "metadata": {
    "execution": {
     "iopub.execute_input": "2022-05-13T19:32:24.210772Z",
     "iopub.status.busy": "2022-05-13T19:32:24.210327Z",
     "iopub.status.idle": "2022-05-13T19:32:24.341086Z",
     "shell.execute_reply": "2022-05-13T19:32:24.340253Z"
    },
    "papermill": {
     "duration": 0.158459,
     "end_time": "2022-05-13T19:32:24.342932",
     "exception": false,
     "start_time": "2022-05-13T19:32:24.184473",
     "status": "completed"
    },
    "tags": []
   },
   "outputs": [
    {
     "data": {
      "application/javascript": [
       "parent.postMessage({\"jupyterEvent\": \"custom.exercise_interaction\", \"data\": {\"outcomeType\": 1, \"valueTowardsCompletion\": 0.14285714285714285, \"interactionType\": 1, \"questionType\": 1, \"questionId\": \"6_DescriptorCounts\", \"learnToolsVersion\": \"0.3.4\", \"failureMessage\": \"\", \"exceptionClass\": \"\", \"trace\": \"\"}}, \"*\")"
      ],
      "text/plain": [
       "<IPython.core.display.Javascript object>"
      ]
     },
     "metadata": {},
     "output_type": "display_data"
    },
    {
     "data": {
      "text/markdown": [
       "<span style=\"color:#33cc33\">Correct</span>"
      ],
      "text/plain": [
       "Correct"
      ]
     },
     "metadata": {},
     "output_type": "display_data"
    }
   ],
   "source": [
    "def count_words(column,criteria):\n",
    "    counter = 0\n",
    "    for description in column:\n",
    "        words = description.split()\n",
    "        for word in words:\n",
    "            if word.lower() == criteria:\n",
    "                counter += 1\n",
    "    return counter\n",
    "tropical = reviews.description.map(lambda desc: 'tropical' in desc).sum()\n",
    "fruity = reviews.description.map(lambda desc: 'fruity' in desc).sum()\n",
    "descriptor_counts = pd.Series([tropical, fruity],index=['tropical','fruity'])\n",
    "# Check your answer\n",
    "q6.check()"
   ]
  },
  {
   "cell_type": "code",
   "execution_count": 13,
   "id": "f1c12d98",
   "metadata": {
    "execution": {
     "iopub.execute_input": "2022-05-13T19:32:24.393626Z",
     "iopub.status.busy": "2022-05-13T19:32:24.393330Z",
     "iopub.status.idle": "2022-05-13T19:32:24.396763Z",
     "shell.execute_reply": "2022-05-13T19:32:24.395981Z"
    },
    "papermill": {
     "duration": 0.031216,
     "end_time": "2022-05-13T19:32:24.398797",
     "exception": false,
     "start_time": "2022-05-13T19:32:24.367581",
     "status": "completed"
    },
    "tags": []
   },
   "outputs": [],
   "source": [
    "#q6.hint()\n",
    "#q6.solution()"
   ]
  },
  {
   "cell_type": "markdown",
   "id": "222f5279",
   "metadata": {
    "papermill": {
     "duration": 0.025729,
     "end_time": "2022-05-13T19:32:24.450461",
     "exception": false,
     "start_time": "2022-05-13T19:32:24.424732",
     "status": "completed"
    },
    "tags": []
   },
   "source": [
    "## 7.\n",
    "We'd like to host these wine reviews on our website, but a rating system ranging from 80 to 100 points is too hard to understand - we'd like to translate them into simple star ratings. A score of 95 or higher counts as 3 stars, a score of at least 85 but less than 95 is 2 stars. Any other score is 1 star.\n",
    "\n",
    "Also, the Canadian Vintners Association bought a lot of ads on the site, so any wines from Canada should automatically get 3 stars, regardless of points.\n",
    "\n",
    "Create a series `star_ratings` with the number of stars corresponding to each review in the dataset."
   ]
  },
  {
   "cell_type": "code",
   "execution_count": 14,
   "id": "9cc31560",
   "metadata": {
    "execution": {
     "iopub.execute_input": "2022-05-13T19:32:24.502236Z",
     "iopub.status.busy": "2022-05-13T19:32:24.501947Z",
     "iopub.status.idle": "2022-05-13T19:32:27.815484Z",
     "shell.execute_reply": "2022-05-13T19:32:27.814663Z"
    },
    "papermill": {
     "duration": 3.342644,
     "end_time": "2022-05-13T19:32:27.817602",
     "exception": false,
     "start_time": "2022-05-13T19:32:24.474958",
     "status": "completed"
    },
    "tags": []
   },
   "outputs": [
    {
     "data": {
      "application/javascript": [
       "parent.postMessage({\"jupyterEvent\": \"custom.exercise_interaction\", \"data\": {\"outcomeType\": 1, \"valueTowardsCompletion\": 0.14285714285714285, \"interactionType\": 1, \"questionType\": 1, \"questionId\": \"7_StarRatings\", \"learnToolsVersion\": \"0.3.4\", \"failureMessage\": \"\", \"exceptionClass\": \"\", \"trace\": \"\"}}, \"*\")"
      ],
      "text/plain": [
       "<IPython.core.display.Javascript object>"
      ]
     },
     "metadata": {},
     "output_type": "display_data"
    },
    {
     "data": {
      "text/markdown": [
       "<span style=\"color:#33cc33\">Correct</span>"
      ],
      "text/plain": [
       "Correct"
      ]
     },
     "metadata": {},
     "output_type": "display_data"
    }
   ],
   "source": [
    "def convert_stars(row):\n",
    "    stars = 0\n",
    "    if 'Canada' == row.country:\n",
    "        stars= 3\n",
    "    elif row.points >= 95:\n",
    "        stars= 3\n",
    "    elif row.points >= 85:\n",
    "        stars= 2\n",
    "    else:\n",
    "        stars= 1\n",
    "    return stars\n",
    "\n",
    "star_ratings = reviews.apply(convert_stars, axis='columns')\n",
    "\n",
    "\n",
    "# Check your answer\n",
    "q7.check()"
   ]
  },
  {
   "cell_type": "code",
   "execution_count": 15,
   "id": "b11e4d02",
   "metadata": {
    "execution": {
     "iopub.execute_input": "2022-05-13T19:32:27.870537Z",
     "iopub.status.busy": "2022-05-13T19:32:27.870278Z",
     "iopub.status.idle": "2022-05-13T19:32:27.873248Z",
     "shell.execute_reply": "2022-05-13T19:32:27.872396Z"
    },
    "papermill": {
     "duration": 0.032378,
     "end_time": "2022-05-13T19:32:27.875147",
     "exception": false,
     "start_time": "2022-05-13T19:32:27.842769",
     "status": "completed"
    },
    "tags": []
   },
   "outputs": [],
   "source": [
    "#q7.hint()\n",
    "#q7.solution()"
   ]
  },
  {
   "cell_type": "markdown",
   "id": "7afed3a0",
   "metadata": {
    "papermill": {
     "duration": 0.024806,
     "end_time": "2022-05-13T19:32:27.926403",
     "exception": false,
     "start_time": "2022-05-13T19:32:27.901597",
     "status": "completed"
    },
    "tags": []
   },
   "source": [
    "# Keep going\n",
    "Continue to **[grouping and sorting](https://www.kaggle.com/residentmario/grouping-and-sorting)**."
   ]
  },
  {
   "cell_type": "markdown",
   "id": "eafbe234",
   "metadata": {
    "papermill": {
     "duration": 0.024859,
     "end_time": "2022-05-13T19:32:27.976437",
     "exception": false,
     "start_time": "2022-05-13T19:32:27.951578",
     "status": "completed"
    },
    "tags": []
   },
   "source": [
    "---\n",
    "\n",
    "\n",
    "\n",
    "\n",
    "*Have questions or comments? Visit the [course discussion forum](https://www.kaggle.com/learn/pandas/discussion) to chat with other learners.*"
   ]
  }
 ],
 "metadata": {
  "kernelspec": {
   "display_name": "Python 3",
   "language": "python",
   "name": "python3"
  },
  "language_info": {
   "codemirror_mode": {
    "name": "ipython",
    "version": 3
   },
   "file_extension": ".py",
   "mimetype": "text/x-python",
   "name": "python",
   "nbconvert_exporter": "python",
   "pygments_lexer": "ipython3",
   "version": "3.7.12"
  },
  "papermill": {
   "default_parameters": {},
   "duration": 20.706648,
   "end_time": "2022-05-13T19:32:28.723027",
   "environment_variables": {},
   "exception": null,
   "input_path": "__notebook__.ipynb",
   "output_path": "__notebook__.ipynb",
   "parameters": {},
   "start_time": "2022-05-13T19:32:08.016379",
   "version": "2.3.4"
  }
 },
 "nbformat": 4,
 "nbformat_minor": 5
}
